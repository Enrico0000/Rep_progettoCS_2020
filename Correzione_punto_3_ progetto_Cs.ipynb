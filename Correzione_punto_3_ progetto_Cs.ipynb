{
 "cells": [
  {
   "cell_type": "code",
   "execution_count": 27,
   "metadata": {},
   "outputs": [],
   "source": [
    "import pandas as pd\n",
    "loans_lenders = pd.read_csv('C:\\\\Users\\\\Enrico\\\\Documents\\\\UNIMIB\\\\Foundations of Computer Science\\\\Project_comp_science\\\\out.csv',\n",
    "                            error_bad_lines=False,\n",
    "                            sep = ',',\n",
    "                            low_memory = False,\n",
    "                            warn_bad_lines=False)\n",
    "\n"
   ]
  },
  {
   "cell_type": "code",
   "execution_count": 35,
   "metadata": {},
   "outputs": [],
   "source": [
    "loans_lenders = loans_lenders.drop(loans_lenders.iloc[:,[0]], axis = 1)"
   ]
  },
  {
   "cell_type": "code",
   "execution_count": 47,
   "metadata": {},
   "outputs": [
    {
     "data": {
      "text/plain": [
       "0\n",
       " 000                True\n",
       " 00000              True\n",
       " 0002               True\n",
       " 00mike00          False\n",
       " 0101craign0101     True\n",
       " 0132575            True\n",
       " 0154884            True\n",
       " 0161130            True\n",
       " 0169713            True\n",
       " 0185429            True\n",
       " 0197462           False\n",
       " 0206338            True\n",
       " 0219854            True\n",
       " 0221581            True\n",
       " 0239059            True\n",
       " 0245597           False\n",
       " 0256321            True\n",
       " 0265562            True\n",
       " 0279282           False\n",
       " 0288537           False\n",
       " 0295920            True\n",
       " 0307987            True\n",
       " 0312857           False\n",
       " 0321212            True\n",
       " 0326lsw            True\n",
       " 0332772            True\n",
       " 0346439            True\n",
       " 0353400           False\n",
       " 0367630           False\n",
       " 0376099            True\n",
       "                   ...  \n",
       "zuzana5790         False\n",
       "zuzana7522         False\n",
       "zuzana8241         False\n",
       "zuzana8342         False\n",
       "zuzana9270         False\n",
       "zuzana9580         False\n",
       "zuzana9848         False\n",
       "zuzanna5419        False\n",
       "zuzanna6834        False\n",
       "zuzanna7983         True\n",
       "zuzanna8834        False\n",
       "zuzanna9818         True\n",
       "zuzika7697         False\n",
       "zvezdana4014       False\n",
       "zvezdomir5847      False\n",
       "zvi                 True\n",
       "zvi1263            False\n",
       "zvika5974          False\n",
       "zvonimir7460       False\n",
       "zx147               True\n",
       "zyra9641           False\n",
       "zyrah8525           True\n",
       "zyrorl              True\n",
       "zzaba              False\n",
       "zzaman              True\n",
       "zzanita             True\n",
       "zzcyna7269         False\n",
       "zzinnia            False\n",
       "zzmcfate            True\n",
       "zzrvmf8538          True\n",
       "Name: 0, Length: 1639026, dtype: bool"
      ]
     },
     "execution_count": 47,
     "metadata": {},
     "output_type": "execute_result"
    }
   ],
   "source": [
    "loans_lenders.groupby('0')['0'].count() > 1"
   ]
  },
  {
   "cell_type": "code",
   "execution_count": null,
   "metadata": {},
   "outputs": [],
   "source": []
  }
 ],
 "metadata": {
  "kernelspec": {
   "display_name": "Python 3",
   "language": "python",
   "name": "python3"
  },
  "language_info": {
   "codemirror_mode": {
    "name": "ipython",
    "version": 3
   },
   "file_extension": ".py",
   "mimetype": "text/x-python",
   "name": "python",
   "nbconvert_exporter": "python",
   "pygments_lexer": "ipython3",
   "version": "3.7.3"
  }
 },
 "nbformat": 4,
 "nbformat_minor": 2
}
